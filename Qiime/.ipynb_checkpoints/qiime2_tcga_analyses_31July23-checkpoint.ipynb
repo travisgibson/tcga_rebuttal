{
 "cells": [
  {
   "cell_type": "markdown",
   "metadata": {},
   "source": [
    "The following conda environment for Qiime 2 was used for these analyses:\n",
    "\n",
    ">qiime2-2022.2\n",
    "\n",
    "The following commands were run using the command line interface (CLI) of Qiime 2."
   ]
  },
  {
   "cell_type": "markdown",
   "metadata": {},
   "source": [
    "# Import Taxa table"
   ]
  },
  {
   "cell_type": "code",
   "execution_count": 15,
   "metadata": {},
   "outputs": [
    {
     "name": "stdout",
     "output_type": "stream",
     "text": [
      "\u001b[32mImported ./Qiime_input_data/taxa.txt as TSVTaxonomyDirectoryFormat to taxonomy.qza\u001b[0m\r\n",
      "\u001b[0m"
     ]
    }
   ],
   "source": [
    "!qiime tools import \\\n",
    " --type 'FeatureData[Taxonomy]' \\\n",
    " --input-path ./Qiime_input_data/taxa.txt \\\n",
    " --output-path taxonomy.qza"
   ]
  },
  {
   "cell_type": "markdown",
   "metadata": {},
   "source": [
    "# Import PT data"
   ]
  },
  {
   "cell_type": "code",
   "execution_count": 16,
   "metadata": {},
   "outputs": [
    {
     "name": "stdout",
     "output_type": "stream",
     "text": [
      "\u001b[32mImported ./Qiime_input_data/countMerged_PT_HMS.biom as BIOMV100Format to countMerged_PT_HMS.qza\u001b[0m\r\n",
      "\u001b[0m"
     ]
    }
   ],
   "source": [
    "!qiime tools import \\\n",
    "--type 'FeatureTable[Frequency]' \\\n",
    "--input-path ./Qiime_input_data/countMerged_PT_HMS.biom \\\n",
    "--input-format BIOMV100Format \\\n",
    "--output-path countMerged_PT_HMS.qza"
   ]
  },
  {
   "cell_type": "code",
   "execution_count": 17,
   "metadata": {},
   "outputs": [
    {
     "name": "stdout",
     "output_type": "stream",
     "text": [
      "\u001b[32mImported ./Qiime_input_data/countMerged_PT_Broad.biom as BIOMV100Format to countMerged_PT_Broad.qza\u001b[0m\r\n",
      "\u001b[0m"
     ]
    }
   ],
   "source": [
    "!qiime tools import \\\n",
    "--type 'FeatureTable[Frequency]' \\\n",
    "--input-path ./Qiime_input_data/countMerged_PT_Broad.biom \\\n",
    "--input-format BIOMV100Format \\\n",
    "--output-path countMerged_PT_Broad.qza"
   ]
  },
  {
   "cell_type": "code",
   "execution_count": 18,
   "metadata": {},
   "outputs": [
    {
     "name": "stdout",
     "output_type": "stream",
     "text": [
      "\u001b[32mImported ./Qiime_input_data/countMerged_PT_MDA.biom as BIOMV100Format to countMerged_PT_MDA.qza\u001b[0m\r\n",
      "\u001b[0m"
     ]
    }
   ],
   "source": [
    "!qiime tools import \\\n",
    "--type 'FeatureTable[Frequency]' \\\n",
    "--input-path ./Qiime_input_data/countMerged_PT_MDA.biom \\\n",
    "--input-format BIOMV100Format \\\n",
    "--output-path countMerged_PT_MDA.qza"
   ]
  },
  {
   "cell_type": "markdown",
   "metadata": {},
   "source": [
    "# Import BDN data"
   ]
  },
  {
   "cell_type": "code",
   "execution_count": 19,
   "metadata": {},
   "outputs": [
    {
     "name": "stdout",
     "output_type": "stream",
     "text": [
      "\u001b[32mImported ./Qiime_input_data/countMerged_BDN_HMS.biom as BIOMV100Format to countMerged_BDN_HMS.qza\u001b[0m\r\n",
      "\u001b[0m"
     ]
    }
   ],
   "source": [
    "!qiime tools import \\\n",
    "--type 'FeatureTable[Frequency]' \\\n",
    "--input-path ./Qiime_input_data/countMerged_BDN_HMS.biom \\\n",
    "--input-format BIOMV100Format \\\n",
    "--output-path countMerged_BDN_HMS.qza"
   ]
  },
  {
   "cell_type": "markdown",
   "metadata": {},
   "source": [
    "# Deicode for PT (beta diversity that does not require rarefaction)\n",
    "\n",
    "Martino et al. 2019. mSystems. See the following links:\n",
    "- https://journals.asm.org/doi/10.1128/mSystems.00016-19\n",
    "- https://forum.qiime2.org/t/robust-aitchison-pca-beta-diversity-with-deicode/8333"
   ]
  },
  {
   "cell_type": "markdown",
   "metadata": {},
   "source": [
    "### Harvard Medical School (HMS)"
   ]
  },
  {
   "cell_type": "code",
   "execution_count": 20,
   "metadata": {},
   "outputs": [
    {
     "name": "stdout",
     "output_type": "stream",
     "text": [
      "\u001b[32mSaved PCoAResults % Properties('biplot') to: ./Deicode_outputs/deicode_ordination_HMS.qza\u001b[0m\r\n",
      "\u001b[32mSaved DistanceMatrix to: ./Deicode_outputs/deicode_distance_HMS.qza\u001b[0m\r\n",
      "\u001b[0m"
     ]
    }
   ],
   "source": [
    "!qiime deicode rpca \\\n",
    "    --i-table countMerged_PT_HMS.qza \\\n",
    "    --o-biplot ./Deicode_outputs/deicode_ordination_HMS.qza \\\n",
    "    --o-distance-matrix ./Deicode_outputs/deicode_distance_HMS.qza"
   ]
  },
  {
   "cell_type": "code",
   "execution_count": 21,
   "metadata": {},
   "outputs": [
    {
     "name": "stdout",
     "output_type": "stream",
     "text": [
      "\u001b[32mSaved Visualization to: ./Deicode_outputs/deicode_biplot_HMS.qzv\u001b[0m\n",
      "\u001b[0m"
     ]
    }
   ],
   "source": [
    "!qiime emperor biplot \\\n",
    "    --i-biplot ./Deicode_outputs/deicode_ordination_HMS.qza \\\n",
    "    --m-sample-metadata-file ./Qiime_input_data/metadataSamplesMerged_PT_HMS.txt \\\n",
    "    --m-feature-metadata-file taxonomy.qza \\\n",
    "    --o-visualization ./Deicode_outputs/deicode_biplot_HMS.qzv \\\n",
    "    --p-number-of-features 1"
   ]
  },
  {
   "cell_type": "code",
   "execution_count": 22,
   "metadata": {},
   "outputs": [
    {
     "name": "stdout",
     "output_type": "stream",
     "text": [
      "\u001b[32mSaved Visualization to: ./Deicode_outputs/deicode_adonis_HMS.qzv\u001b[0m\r\n",
      "\u001b[0m"
     ]
    }
   ],
   "source": [
    "!qiime diversity adonis \\\n",
    "--i-distance-matrix ./Deicode_outputs/deicode_distance_HMS.qza \\\n",
    "--m-metadata-file ./Qiime_input_data/metadataSamplesMerged_PT_HMS.txt \\\n",
    "--p-formula \"investigation\" \\\n",
    "--p-n-jobs 8 \\\n",
    "--o-visualization ./Deicode_outputs/deicode_adonis_HMS.qzv"
   ]
  },
  {
   "cell_type": "markdown",
   "metadata": {},
   "source": [
    "### MD Anderson (MDA)"
   ]
  },
  {
   "cell_type": "code",
   "execution_count": 23,
   "metadata": {},
   "outputs": [
    {
     "name": "stdout",
     "output_type": "stream",
     "text": [
      "\u001b[32mSaved PCoAResults % Properties('biplot') to: ./Deicode_outputs/deicode_ordination_MDA.qza\u001b[0m\r\n",
      "\u001b[32mSaved DistanceMatrix to: ./Deicode_outputs/deicode_distance_MDA.qza\u001b[0m\r\n",
      "\u001b[0m"
     ]
    }
   ],
   "source": [
    "!qiime deicode rpca \\\n",
    "    --i-table countMerged_PT_MDA.qza \\\n",
    "    --o-biplot ./Deicode_outputs/deicode_ordination_MDA.qza \\\n",
    "    --o-distance-matrix ./Deicode_outputs/deicode_distance_MDA.qza"
   ]
  },
  {
   "cell_type": "code",
   "execution_count": 24,
   "metadata": {},
   "outputs": [
    {
     "name": "stdout",
     "output_type": "stream",
     "text": [
      "\u001b[32mSaved Visualization to: ./Deicode_outputs/deicode_biplot_MDA.qzv\u001b[0m\n",
      "\u001b[0m"
     ]
    }
   ],
   "source": [
    "!qiime emperor biplot \\\n",
    "    --i-biplot ./Deicode_outputs/deicode_ordination_MDA.qza \\\n",
    "    --m-sample-metadata-file ./Qiime_input_data/metadataSamplesMerged_PT_MDA.txt \\\n",
    "    --m-feature-metadata-file taxonomy.qza \\\n",
    "    --o-visualization ./Deicode_outputs/deicode_biplot_MDA.qzv \\\n",
    "    --p-number-of-features 1"
   ]
  },
  {
   "cell_type": "code",
   "execution_count": 25,
   "metadata": {},
   "outputs": [
    {
     "name": "stdout",
     "output_type": "stream",
     "text": [
      "\u001b[32mSaved Visualization to: ./Deicode_outputs/deicode_adonis_MDA.qzv\u001b[0m\r\n",
      "\u001b[0m"
     ]
    }
   ],
   "source": [
    "!qiime diversity adonis \\\n",
    "    --i-distance-matrix ./Deicode_outputs/deicode_distance_MDA.qza \\\n",
    "    --m-metadata-file ./Qiime_input_data/metadataSamplesMerged_PT_MDA.txt \\\n",
    "    --p-formula \"investigation\" \\\n",
    "    --p-n-jobs 8 \\\n",
    "    --o-visualization ./Deicode_outputs/deicode_adonis_MDA.qzv"
   ]
  },
  {
   "cell_type": "markdown",
   "metadata": {},
   "source": [
    "### Broad Institute WGS (Broad_WGS)"
   ]
  },
  {
   "cell_type": "code",
   "execution_count": 26,
   "metadata": {},
   "outputs": [
    {
     "name": "stdout",
     "output_type": "stream",
     "text": [
      "\u001b[32mSaved PCoAResults % Properties('biplot') to: ./Deicode_outputs/deicode_ordination_Broad_WGS.qza\u001b[0m\n",
      "\u001b[32mSaved DistanceMatrix to: ./Deicode_outputs/deicode_distance_Broad_WGS.qza\u001b[0m\n",
      "\u001b[0m"
     ]
    }
   ],
   "source": [
    "!qiime deicode rpca \\\n",
    "    --i-table countMerged_PT_Broad.qza \\\n",
    "    --o-biplot ./Deicode_outputs/deicode_ordination_Broad_WGS.qza \\\n",
    "    --o-distance-matrix ./Deicode_outputs/deicode_distance_Broad_WGS.qza"
   ]
  },
  {
   "cell_type": "code",
   "execution_count": 27,
   "metadata": {},
   "outputs": [
    {
     "name": "stdout",
     "output_type": "stream",
     "text": [
      "\u001b[32mSaved Visualization to: ./Deicode_outputs/deicode_biplot_Broad_WGS.qzv\u001b[0m\r\n",
      "\u001b[0m"
     ]
    }
   ],
   "source": [
    "!qiime emperor biplot \\\n",
    "    --i-biplot ./Deicode_outputs/deicode_ordination_Broad_WGS.qza \\\n",
    "    --m-sample-metadata-file ./Qiime_input_data/metadataSamplesMerged_PT_Broad.txt \\\n",
    "    --m-feature-metadata-file taxonomy.qza \\\n",
    "    --o-visualization ./Deicode_outputs/deicode_biplot_Broad_WGS.qzv \\\n",
    "    --p-number-of-features 1"
   ]
  },
  {
   "cell_type": "code",
   "execution_count": 28,
   "metadata": {},
   "outputs": [
    {
     "name": "stdout",
     "output_type": "stream",
     "text": [
      "\u001b[32mSaved Visualization to: ./Deicode_outputs/deicode_adonis_Broad_WGS.qzv\u001b[0m\r\n",
      "\u001b[0m"
     ]
    }
   ],
   "source": [
    "!qiime diversity adonis \\\n",
    "    --i-distance-matrix ./Deicode_outputs/deicode_distance_Broad_WGS.qza \\\n",
    "    --m-metadata-file ./Qiime_input_data/metadataSamplesMerged_PT_Broad.txt \\\n",
    "    --p-formula \"investigation\" \\\n",
    "    --p-n-jobs 8 \\\n",
    "    --o-visualization ./Deicode_outputs/deicode_adonis_Broad_WGS.qzv"
   ]
  },
  {
   "cell_type": "markdown",
   "metadata": {},
   "source": [
    "# Deicode for BDN (beta diversity that does not require rarefaction)\n",
    "\n",
    "Martino et al. 2019. mSystems. See the following links:\n",
    "- https://journals.asm.org/doi/10.1128/mSystems.00016-19\n",
    "- https://forum.qiime2.org/t/robust-aitchison-pca-beta-diversity-with-deicode/8333"
   ]
  },
  {
   "cell_type": "markdown",
   "metadata": {},
   "source": [
    "### Harvard Medical School (HMS)"
   ]
  },
  {
   "cell_type": "code",
   "execution_count": 29,
   "metadata": {
    "scrolled": true
   },
   "outputs": [
    {
     "name": "stdout",
     "output_type": "stream",
     "text": [
      "\u001b[32mSaved PCoAResults % Properties('biplot') to: ./Deicode_outputs/deicode_ordination_HMS_BDN.qza\u001b[0m\n",
      "\u001b[32mSaved DistanceMatrix to: ./Deicode_outputs/deicode_distance_HMS_BDN.qza\u001b[0m\n",
      "\u001b[0m"
     ]
    }
   ],
   "source": [
    "!qiime deicode rpca \\\n",
    "    --i-table countMerged_BDN_HMS.qza \\\n",
    "    --o-biplot ./Deicode_outputs/deicode_ordination_HMS_BDN.qza \\\n",
    "    --o-distance-matrix ./Deicode_outputs/deicode_distance_HMS_BDN.qza"
   ]
  },
  {
   "cell_type": "code",
   "execution_count": 30,
   "metadata": {},
   "outputs": [
    {
     "name": "stdout",
     "output_type": "stream",
     "text": [
      "\u001b[32mSaved Visualization to: ./Deicode_outputs/deicode_biplot_HMS_BDN.qzv\u001b[0m\r\n",
      "\u001b[0m"
     ]
    }
   ],
   "source": [
    "!qiime emperor biplot \\\n",
    "    --i-biplot ./Deicode_outputs/deicode_ordination_HMS_BDN.qza \\\n",
    "    --m-sample-metadata-file ./Qiime_input_data/metadataSamplesMerged_BDN_HMS.txt \\\n",
    "    --m-feature-metadata-file taxonomy.qza \\\n",
    "    --o-visualization ./Deicode_outputs/deicode_biplot_HMS_BDN.qzv \\\n",
    "    --p-number-of-features 1"
   ]
  },
  {
   "cell_type": "code",
   "execution_count": 31,
   "metadata": {},
   "outputs": [
    {
     "name": "stdout",
     "output_type": "stream",
     "text": [
      "\u001b[32mSaved Visualization to: ./Deicode_outputs/deicode_adonis_HMS_BDN.qzv\u001b[0m\r\n",
      "\u001b[0m"
     ]
    }
   ],
   "source": [
    "!qiime diversity adonis \\\n",
    "    --i-distance-matrix ./Deicode_outputs/deicode_distance_HMS_BDN.qza \\\n",
    "    --m-metadata-file ./Qiime_input_data/metadataSamplesMerged_BDN_HMS.txt \\\n",
    "    --p-formula \"investigation\" \\\n",
    "    --p-n-jobs 8 \\\n",
    "    --o-visualization ./Deicode_outputs/deicode_adonis_HMS_BDN.qzv"
   ]
  },
  {
   "cell_type": "markdown",
   "metadata": {},
   "source": [
    "# Qiime 2 Core Metrics - PT\n",
    "Note: Since beta diversity was calculated above using DEICODE above, we are mostly interested in the alpha diversity results. A common rarefaction depth was selected near the 1st quartile of the sample read distribution."
   ]
  },
  {
   "cell_type": "markdown",
   "metadata": {},
   "source": [
    "### Harvard Medical School (HMS)\n",
    "Note the following sample read distribution from R:\n",
    "```\n",
    "> summary(rowSums(countMerged_PT_HMS))\n",
    "     Min.   1st Qu.    Median      Mean   3rd Qu.      Max. \n",
    "      1.0     618.5    1799.0   51852.0   17551.5 1863068.0 \n",
    "```"
   ]
  },
  {
   "cell_type": "code",
   "execution_count": 35,
   "metadata": {},
   "outputs": [
    {
     "name": "stdout",
     "output_type": "stream",
     "text": [
      "\u001b[32mSaved FeatureTable[Frequency] to: ./core_metrics_pt_hms/rarefied_table.qza\u001b[0m\n",
      "\u001b[32mSaved SampleData[AlphaDiversity] to: ./core_metrics_pt_hms/observed_features_vector.qza\u001b[0m\n",
      "\u001b[32mSaved SampleData[AlphaDiversity] to: ./core_metrics_pt_hms/shannon_vector.qza\u001b[0m\n",
      "\u001b[32mSaved SampleData[AlphaDiversity] to: ./core_metrics_pt_hms/evenness_vector.qza\u001b[0m\n",
      "\u001b[32mSaved DistanceMatrix to: ./core_metrics_pt_hms/jaccard_distance_matrix.qza\u001b[0m\n",
      "\u001b[32mSaved DistanceMatrix to: ./core_metrics_pt_hms/bray_curtis_distance_matrix.qza\u001b[0m\n",
      "\u001b[32mSaved PCoAResults to: ./core_metrics_pt_hms/jaccard_pcoa_results.qza\u001b[0m\n",
      "\u001b[32mSaved PCoAResults to: ./core_metrics_pt_hms/bray_curtis_pcoa_results.qza\u001b[0m\n",
      "\u001b[32mSaved Visualization to: ./core_metrics_pt_hms/jaccard_emperor.qzv\u001b[0m\n",
      "\u001b[32mSaved Visualization to: ./core_metrics_pt_hms/bray_curtis_emperor.qzv\u001b[0m\n",
      "\u001b[0m"
     ]
    }
   ],
   "source": [
    "!qiime diversity core-metrics \\\n",
    "--i-table countMerged_PT_HMS.qza \\\n",
    "--p-sampling-depth 600 \\\n",
    "--m-metadata-file ./Qiime_input_data/metadataSamplesMerged_PT_HMS.txt \\\n",
    "--output-dir ./core_metrics_pt_hms/"
   ]
  },
  {
   "cell_type": "code",
   "execution_count": 36,
   "metadata": {},
   "outputs": [
    {
     "name": "stdout",
     "output_type": "stream",
     "text": [
      "\u001b[32mSaved Visualization to: ./core_metrics_pt_hms/observed_features_vector_significance.qzv\u001b[0m\n",
      "\u001b[0m\u001b[32mSaved Visualization to: ./core_metrics_pt_hms/shannon_vector_significance.qzv\u001b[0m\n",
      "\u001b[0m"
     ]
    }
   ],
   "source": [
    "!qiime diversity alpha-group-significance \\\n",
    "--i-alpha-diversity ./core_metrics_pt_hms/observed_features_vector.qza \\\n",
    "--m-metadata-file ./Qiime_input_data/metadataSamplesMerged_PT_HMS.txt \\\n",
    "--o-visualization ./core_metrics_pt_hms/observed_features_vector_significance.qzv\n",
    "\n",
    "!qiime diversity alpha-group-significance \\\n",
    "--i-alpha-diversity ./core_metrics_pt_hms/shannon_vector.qza \\\n",
    "--m-metadata-file ./Qiime_input_data/metadataSamplesMerged_PT_HMS.txt \\\n",
    "--o-visualization ./core_metrics_pt_hms/shannon_vector_significance.qzv"
   ]
  },
  {
   "cell_type": "code",
   "execution_count": 37,
   "metadata": {},
   "outputs": [
    {
     "name": "stdout",
     "output_type": "stream",
     "text": [
      "\u001b[32mSaved Visualization to: ./core_metrics_pt_hms/jaccard_distance_matrix_significance.qzv\u001b[0m\n",
      "\u001b[0m\u001b[32mSaved Visualization to: ./core_metrics_pt_hms/bray_curtis_distance_matrix_significance.qzv\u001b[0m\n",
      "\u001b[0m"
     ]
    }
   ],
   "source": [
    "!qiime diversity beta-group-significance \\\n",
    "--i-distance-matrix ./core_metrics_pt_hms/jaccard_distance_matrix.qza \\\n",
    "--m-metadata-file ./Qiime_input_data/metadataSamplesMerged_PT_HMS.txt \\\n",
    "--m-metadata-column investigation \\\n",
    "--o-visualization ./core_metrics_pt_hms/jaccard_distance_matrix_significance.qzv\n",
    "\n",
    "!qiime diversity beta-group-significance \\\n",
    "--i-distance-matrix ./core_metrics_pt_hms/bray_curtis_distance_matrix.qza \\\n",
    "--m-metadata-file ./Qiime_input_data/metadataSamplesMerged_PT_HMS.txt \\\n",
    "--m-metadata-column investigation \\\n",
    "--o-visualization ./core_metrics_pt_hms/bray_curtis_distance_matrix_significance.qzv"
   ]
  },
  {
   "cell_type": "markdown",
   "metadata": {},
   "source": [
    "### MD Anderson (MDA)\n",
    "Note the following sample read distribution from R:\n",
    "```\n",
    "> summary(rowSums(countMerged_PT_MDA))\n",
    "    Min.  1st Qu.   Median     Mean  3rd Qu.     Max. \n",
    "   157.0    337.5    492.0  27181.9   1731.5 758959.0 \n",
    "```"
   ]
  },
  {
   "cell_type": "code",
   "execution_count": 38,
   "metadata": {},
   "outputs": [
    {
     "name": "stdout",
     "output_type": "stream",
     "text": [
      "\u001b[32mSaved FeatureTable[Frequency] to: ./core_metrics_pt_mda/rarefied_table.qza\u001b[0m\n",
      "\u001b[32mSaved SampleData[AlphaDiversity] to: ./core_metrics_pt_mda/observed_features_vector.qza\u001b[0m\n",
      "\u001b[32mSaved SampleData[AlphaDiversity] to: ./core_metrics_pt_mda/shannon_vector.qza\u001b[0m\n",
      "\u001b[32mSaved SampleData[AlphaDiversity] to: ./core_metrics_pt_mda/evenness_vector.qza\u001b[0m\n",
      "\u001b[32mSaved DistanceMatrix to: ./core_metrics_pt_mda/jaccard_distance_matrix.qza\u001b[0m\n",
      "\u001b[32mSaved DistanceMatrix to: ./core_metrics_pt_mda/bray_curtis_distance_matrix.qza\u001b[0m\n",
      "\u001b[32mSaved PCoAResults to: ./core_metrics_pt_mda/jaccard_pcoa_results.qza\u001b[0m\n",
      "\u001b[32mSaved PCoAResults to: ./core_metrics_pt_mda/bray_curtis_pcoa_results.qza\u001b[0m\n",
      "\u001b[32mSaved Visualization to: ./core_metrics_pt_mda/jaccard_emperor.qzv\u001b[0m\n",
      "\u001b[32mSaved Visualization to: ./core_metrics_pt_mda/bray_curtis_emperor.qzv\u001b[0m\n",
      "\u001b[0m"
     ]
    }
   ],
   "source": [
    "!qiime diversity core-metrics \\\n",
    "--i-table countMerged_PT_MDA.qza \\\n",
    "--p-sampling-depth 330 \\\n",
    "--m-metadata-file ./Qiime_input_data/metadataSamplesMerged_PT_MDA.txt \\\n",
    "--output-dir ./core_metrics_pt_mda/"
   ]
  },
  {
   "cell_type": "code",
   "execution_count": 39,
   "metadata": {},
   "outputs": [
    {
     "name": "stdout",
     "output_type": "stream",
     "text": [
      "\u001b[32mSaved Visualization to: ./core_metrics_pt_mda/observed_features_vector_significance.qzv\u001b[0m\n",
      "\u001b[0m\u001b[32mSaved Visualization to: ./core_metrics_pt_mda/shannon_vector_significance.qzv\u001b[0m\n",
      "\u001b[0m"
     ]
    }
   ],
   "source": [
    "!qiime diversity alpha-group-significance \\\n",
    "--i-alpha-diversity ./core_metrics_pt_mda/observed_features_vector.qza \\\n",
    "--m-metadata-file ./Qiime_input_data/metadataSamplesMerged_PT_MDA.txt \\\n",
    "--o-visualization ./core_metrics_pt_mda/observed_features_vector_significance.qzv\n",
    "\n",
    "!qiime diversity alpha-group-significance \\\n",
    "--i-alpha-diversity ./core_metrics_pt_mda/shannon_vector.qza \\\n",
    "--m-metadata-file ./Qiime_input_data/metadataSamplesMerged_PT_MDA.txt \\\n",
    "--o-visualization ./core_metrics_pt_mda/shannon_vector_significance.qzv"
   ]
  },
  {
   "cell_type": "code",
   "execution_count": 40,
   "metadata": {},
   "outputs": [
    {
     "name": "stdout",
     "output_type": "stream",
     "text": [
      "\u001b[32mSaved Visualization to: ./core_metrics_pt_mda/jaccard_distance_matrix_significance.qzv\u001b[0m\n",
      "\u001b[0m\u001b[32mSaved Visualization to: ./core_metrics_pt_mda/bray_curtis_distance_matrix_significance.qzv\u001b[0m\n",
      "\u001b[0m"
     ]
    }
   ],
   "source": [
    "!qiime diversity beta-group-significance \\\n",
    "--i-distance-matrix ./core_metrics_pt_mda/jaccard_distance_matrix.qza \\\n",
    "--m-metadata-file ./Qiime_input_data/metadataSamplesMerged_PT_MDA.txt \\\n",
    "--m-metadata-column investigation \\\n",
    "--o-visualization ./core_metrics_pt_mda/jaccard_distance_matrix_significance.qzv\n",
    "\n",
    "!qiime diversity beta-group-significance \\\n",
    "--i-distance-matrix ./core_metrics_pt_mda/bray_curtis_distance_matrix.qza \\\n",
    "--m-metadata-file ./Qiime_input_data/metadataSamplesMerged_PT_MDA.txt \\\n",
    "--m-metadata-column investigation \\\n",
    "--o-visualization ./core_metrics_pt_mda/bray_curtis_distance_matrix_significance.qzv"
   ]
  },
  {
   "cell_type": "markdown",
   "metadata": {},
   "source": [
    "### Broad Institute WGS only (Broad WGS)\n",
    "Note the following sample read distribution from R (it is lower than the other seq centers):\n",
    "```\n",
    "> summary(rowSums(countMerged_PT_Broad))\n",
    "   Min. 1st Qu.  Median    Mean 3rd Qu.    Max. \n",
    "     77     396     733    8981    4636   81314\n",
    "```"
   ]
  },
  {
   "cell_type": "code",
   "execution_count": 41,
   "metadata": {},
   "outputs": [
    {
     "name": "stdout",
     "output_type": "stream",
     "text": [
      "\u001b[32mSaved FeatureTable[Frequency] to: ./core_metrics_pt_broad_WGS/rarefied_table.qza\u001b[0m\n",
      "\u001b[32mSaved SampleData[AlphaDiversity] to: ./core_metrics_pt_broad_WGS/observed_features_vector.qza\u001b[0m\n",
      "\u001b[32mSaved SampleData[AlphaDiversity] to: ./core_metrics_pt_broad_WGS/shannon_vector.qza\u001b[0m\n",
      "\u001b[32mSaved SampleData[AlphaDiversity] to: ./core_metrics_pt_broad_WGS/evenness_vector.qza\u001b[0m\n",
      "\u001b[32mSaved DistanceMatrix to: ./core_metrics_pt_broad_WGS/jaccard_distance_matrix.qza\u001b[0m\n",
      "\u001b[32mSaved DistanceMatrix to: ./core_metrics_pt_broad_WGS/bray_curtis_distance_matrix.qza\u001b[0m\n",
      "\u001b[32mSaved PCoAResults to: ./core_metrics_pt_broad_WGS/jaccard_pcoa_results.qza\u001b[0m\n",
      "\u001b[32mSaved PCoAResults to: ./core_metrics_pt_broad_WGS/bray_curtis_pcoa_results.qza\u001b[0m\n",
      "\u001b[32mSaved Visualization to: ./core_metrics_pt_broad_WGS/jaccard_emperor.qzv\u001b[0m\n",
      "\u001b[32mSaved Visualization to: ./core_metrics_pt_broad_WGS/bray_curtis_emperor.qzv\u001b[0m\n",
      "\u001b[0m"
     ]
    }
   ],
   "source": [
    "!qiime diversity core-metrics \\\n",
    "--i-table countMerged_PT_Broad.qza \\\n",
    "--p-sampling-depth 400 \\\n",
    "--m-metadata-file ./Qiime_input_data/metadataSamplesMerged_PT_Broad.txt \\\n",
    "--output-dir ./core_metrics_pt_broad_WGS/"
   ]
  },
  {
   "cell_type": "code",
   "execution_count": 42,
   "metadata": {},
   "outputs": [
    {
     "name": "stdout",
     "output_type": "stream",
     "text": [
      "\u001b[32mSaved Visualization to: ./core_metrics_pt_broad_WGS/observed_features_vector_significance.qzv\u001b[0m\n",
      "\u001b[0m\u001b[32mSaved Visualization to: ./core_metrics_pt_broad_WGS/shannon_vector_significance.qzv\u001b[0m\n",
      "\u001b[0m"
     ]
    }
   ],
   "source": [
    "!qiime diversity alpha-group-significance \\\n",
    "--i-alpha-diversity ./core_metrics_pt_broad_WGS/observed_features_vector.qza \\\n",
    "--m-metadata-file ./Qiime_input_data/metadataSamplesMerged_PT_Broad.txt \\\n",
    "--o-visualization ./core_metrics_pt_broad_WGS/observed_features_vector_significance.qzv\n",
    "\n",
    "!qiime diversity alpha-group-significance \\\n",
    "--i-alpha-diversity ./core_metrics_pt_broad_WGS/shannon_vector.qza \\\n",
    "--m-metadata-file ./Qiime_input_data/metadataSamplesMerged_PT_Broad.txt \\\n",
    "--o-visualization ./core_metrics_pt_broad_WGS/shannon_vector_significance.qzv"
   ]
  },
  {
   "cell_type": "code",
   "execution_count": 44,
   "metadata": {},
   "outputs": [
    {
     "name": "stdout",
     "output_type": "stream",
     "text": [
      "\u001b[32mSaved Visualization to: ./core_metrics_pt_broad_WGS/jaccard_distance_matrix_significance.qzv\u001b[0m\n",
      "\u001b[0m\u001b[32mSaved Visualization to: ./core_metrics_pt_broad_WGS/bray_curtis_distance_matrix_significance.qzv\u001b[0m\n",
      "\u001b[0m"
     ]
    }
   ],
   "source": [
    "!qiime diversity beta-group-significance \\\n",
    "--i-distance-matrix ./core_metrics_pt_broad_WGS/jaccard_distance_matrix.qza \\\n",
    "--m-metadata-file ./Qiime_input_data/metadataSamplesMerged_PT_Broad.txt \\\n",
    "--m-metadata-column investigation \\\n",
    "--o-visualization ./core_metrics_pt_broad_WGS/jaccard_distance_matrix_significance.qzv\n",
    "\n",
    "!qiime diversity beta-group-significance \\\n",
    "--i-distance-matrix ./core_metrics_pt_broad_WGS/bray_curtis_distance_matrix.qza \\\n",
    "--m-metadata-file ./Qiime_input_data/metadataSamplesMerged_PT_Broad.txt \\\n",
    "--m-metadata-column investigation \\\n",
    "--o-visualization ./core_metrics_pt_broad_WGS/bray_curtis_distance_matrix_significance.qzv"
   ]
  },
  {
   "cell_type": "markdown",
   "metadata": {},
   "source": [
    "# Qiime 2 Core Metrics - BDN\n",
    "Note: Since beta diversity was calculated above using DEICODE above, we are mostly interested in the alpha diversity results. A common rarefaction depth was selected near the 1st quartile of the sample read distribution."
   ]
  },
  {
   "cell_type": "markdown",
   "metadata": {},
   "source": [
    "### Harvard Medical School (HMS)\n",
    "Note the following sample read distribution from R:\n",
    "```\n",
    "> summary(rowSums(countMerged_BDN_HMS))\n",
    "     Min.   1st Qu.    Median      Mean   3rd Qu.      Max. \n",
    "    164.0     600.5    1607.0   22539.8    4843.0 1154723.0\n",
    "```"
   ]
  },
  {
   "cell_type": "code",
   "execution_count": 45,
   "metadata": {},
   "outputs": [
    {
     "name": "stdout",
     "output_type": "stream",
     "text": [
      "\u001b[32mSaved FeatureTable[Frequency] to: ./core_metrics_bdn_hms/rarefied_table.qza\u001b[0m\n",
      "\u001b[32mSaved SampleData[AlphaDiversity] to: ./core_metrics_bdn_hms/observed_features_vector.qza\u001b[0m\n",
      "\u001b[32mSaved SampleData[AlphaDiversity] to: ./core_metrics_bdn_hms/shannon_vector.qza\u001b[0m\n",
      "\u001b[32mSaved SampleData[AlphaDiversity] to: ./core_metrics_bdn_hms/evenness_vector.qza\u001b[0m\n",
      "\u001b[32mSaved DistanceMatrix to: ./core_metrics_bdn_hms/jaccard_distance_matrix.qza\u001b[0m\n",
      "\u001b[32mSaved DistanceMatrix to: ./core_metrics_bdn_hms/bray_curtis_distance_matrix.qza\u001b[0m\n",
      "\u001b[32mSaved PCoAResults to: ./core_metrics_bdn_hms/jaccard_pcoa_results.qza\u001b[0m\n",
      "\u001b[32mSaved PCoAResults to: ./core_metrics_bdn_hms/bray_curtis_pcoa_results.qza\u001b[0m\n",
      "\u001b[32mSaved Visualization to: ./core_metrics_bdn_hms/jaccard_emperor.qzv\u001b[0m\n",
      "\u001b[32mSaved Visualization to: ./core_metrics_bdn_hms/bray_curtis_emperor.qzv\u001b[0m\n",
      "\u001b[0m"
     ]
    }
   ],
   "source": [
    "!qiime diversity core-metrics \\\n",
    "--i-table countMerged_BDN_HMS.qza \\\n",
    "--p-sampling-depth 600 \\\n",
    "--m-metadata-file ./Qiime_input_data/metadataSamplesMerged_BDN_HMS.txt \\\n",
    "--output-dir ./core_metrics_bdn_hms/"
   ]
  },
  {
   "cell_type": "code",
   "execution_count": 46,
   "metadata": {},
   "outputs": [
    {
     "name": "stdout",
     "output_type": "stream",
     "text": [
      "\u001b[32mSaved Visualization to: ./core_metrics_bdn_hms/observed_features_vector_significance.qzv\u001b[0m\n",
      "\u001b[0m\u001b[32mSaved Visualization to: ./core_metrics_bdn_hms/shannon_vector_significance.qzv\u001b[0m\n",
      "\u001b[0m"
     ]
    }
   ],
   "source": [
    "!qiime diversity alpha-group-significance \\\n",
    "--i-alpha-diversity ./core_metrics_bdn_hms/observed_features_vector.qza \\\n",
    "--m-metadata-file ./Qiime_input_data/metadataSamplesMerged_BDN_HMS.txt \\\n",
    "--o-visualization ./core_metrics_bdn_hms/observed_features_vector_significance.qzv\n",
    "\n",
    "!qiime diversity alpha-group-significance \\\n",
    "--i-alpha-diversity ./core_metrics_bdn_hms/shannon_vector.qza \\\n",
    "--m-metadata-file ./Qiime_input_data/metadataSamplesMerged_BDN_HMS.txt \\\n",
    "--o-visualization ./core_metrics_bdn_hms/shannon_vector_significance.qzv"
   ]
  },
  {
   "cell_type": "code",
   "execution_count": 47,
   "metadata": {},
   "outputs": [
    {
     "name": "stdout",
     "output_type": "stream",
     "text": [
      "\u001b[32mSaved Visualization to: ./core_metrics_bdn_hms/jaccard_distance_matrix_significance.qzv\u001b[0m\n",
      "\u001b[0m\u001b[32mSaved Visualization to: ./core_metrics_bdn_hms/bray_curtis_distance_matrix_significance.qzv\u001b[0m\n",
      "\u001b[0m"
     ]
    }
   ],
   "source": [
    "!qiime diversity beta-group-significance \\\n",
    "--i-distance-matrix ./core_metrics_bdn_hms/jaccard_distance_matrix.qza \\\n",
    "--m-metadata-file ./Qiime_input_data/metadataSamplesMerged_BDN_HMS.txt \\\n",
    "--m-metadata-column investigation \\\n",
    "--o-visualization ./core_metrics_bdn_hms/jaccard_distance_matrix_significance.qzv\n",
    "\n",
    "!qiime diversity beta-group-significance \\\n",
    "--i-distance-matrix ./core_metrics_bdn_hms/bray_curtis_distance_matrix.qza \\\n",
    "--m-metadata-file ./Qiime_input_data/metadataSamplesMerged_BDN_HMS.txt \\\n",
    "--m-metadata-column investigation \\\n",
    "--o-visualization ./core_metrics_bdn_hms/bray_curtis_distance_matrix_significance.qzv"
   ]
  },
  {
   "cell_type": "markdown",
   "metadata": {},
   "source": [
    "# Figures\n",
    "\n",
    "- Outputted .qzv files can be viewed on https://view.qiime2.org/ using Emperor (https://biocore.github.io/emperor/) specifically to see the beta diversity PCoA plots and capture screenshots"
   ]
  },
  {
   "cell_type": "code",
   "execution_count": null,
   "metadata": {},
   "outputs": [],
   "source": []
  }
 ],
 "metadata": {
  "kernelspec": {
   "display_name": "Python 3 (ipykernel)",
   "language": "python",
   "name": "python3"
  },
  "language_info": {
   "codemirror_mode": {
    "name": "ipython",
    "version": 3
   },
   "file_extension": ".py",
   "mimetype": "text/x-python",
   "name": "python",
   "nbconvert_exporter": "python",
   "pygments_lexer": "ipython3",
   "version": "3.8.13"
  }
 },
 "nbformat": 4,
 "nbformat_minor": 2
}
